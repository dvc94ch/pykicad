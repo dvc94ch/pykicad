{
 "cells": [
  {
   "cell_type": "code",
   "execution_count": null,
   "metadata": {
    "ExecuteTime": {
     "end_time": "2019-06-21T23:49:40.089355Z",
     "start_time": "2019-06-21T23:49:40.048235Z"
    }
   },
   "outputs": [],
   "source": [
    "%load_ext autoreload\n",
    "%autoreload 2\n",
    "\n",
    "# Import pykicad\n",
    "import pykicad"
   ]
  },
  {
   "cell_type": "code",
   "execution_count": 5,
   "metadata": {
    "ExecuteTime": {
     "end_time": "2019-06-21T23:50:15.828072Z",
     "start_time": "2019-06-21T23:50:15.802437Z"
    }
   },
   "outputs": [
    {
     "name": "stdout",
     "output_type": "stream",
     "text": [
      "(model path \n",
      "    (at \n",
      "        (xyz 10.0000000000 0.0000000000 0.0000000000)) \n",
      "    (offset \n",
      "        (xyz 0.0000000000 0.0000000000 0.0000000000)) \n",
      "    (scale \n",
      "        (xyz 0.0000000000 0.0000000000 0.0000000000)) \n",
      "    (rotate \n",
      "        (xyz 0.0000000000 0.0000000000 0.0000000000)))\n"
     ]
    }
   ],
   "source": [
    "model_string = (\n",
    "            '(model path'\n",
    "            '    (at (xyz 10 0 0))'\n",
    "            '    (scale (xyz 0 0 0))'\n",
    "            '    (rotate (xyz 0 0 0)))')\n",
    "model = pykicad.Model.parse(model_string)\n",
    "print(model)\n",
    "assert model.at == (10, 0, 0)\n",
    "assert model.scale == (0, 0, 0)\n",
    "assert model.rotate == (0, 0, 0)\n",
    "assert pykicad.Model.parse(model.to_string()) == model"
   ]
  },
  {
   "cell_type": "code",
   "execution_count": null,
   "metadata": {
    "ExecuteTime": {
     "end_time": "2019-06-21T23:40:59.200925Z",
     "start_time": "2019-06-21T23:40:59.139956Z"
    }
   },
   "outputs": [],
   "source": [
    "print(Pcb.parse(pcb.to_string()).to_string() )"
   ]
  },
  {
   "cell_type": "code",
   "execution_count": null,
   "metadata": {
    "ExecuteTime": {
     "end_time": "2019-06-21T23:40:52.938877Z",
     "start_time": "2019-06-21T23:40:52.918809Z"
    }
   },
   "outputs": [],
   "source": [
    "print(pcb.to_string())"
   ]
  },
  {
   "cell_type": "code",
   "execution_count": null,
   "metadata": {
    "ExecuteTime": {
     "end_time": "2019-06-21T23:40:15.273842Z",
     "start_time": "2019-06-21T23:40:15.256789Z"
    }
   },
   "outputs": [],
   "source": [
    "print(pcb)"
   ]
  },
  {
   "cell_type": "code",
   "execution_count": null,
   "metadata": {
    "ExecuteTime": {
     "end_time": "2019-06-21T23:34:18.188669Z",
     "start_time": "2019-06-21T23:34:18.151268Z"
    }
   },
   "outputs": [],
   "source": [
    "from numpy import array\n",
    "from pykicad.pcb import *\n",
    "from pykicad.module import *\n",
    "\n",
    "# Define nets\n",
    "vi, vo, gnd = Net('VI'), Net('VO'), Net('GND')\n",
    "\n",
    "# Load footprints\n",
    "r1 = Module.from_library('testlib', 'R_0805')\n",
    "r2 = Module.from_library('testlib', 'R_0805')\n",
    "\n",
    "# Connect pads\n",
    "r1.pads[0].net = vi\n",
    "r1.pads[1].net = vo\n",
    "r2.pads[0].net = vo\n",
    "r2.pads[1].net = gnd\n",
    "\n",
    "# Place components\n",
    "r1.at = [0, 0]\n",
    "r2.at = [5, 0]\n",
    "\n",
    "# Compute positions\n",
    "start = array(r1.pads[1].at) + array(r1.at)\n",
    "end = array(r2.pads[0].at) + array(r2.at)\n",
    "pos = start + (end - start) / 2\n",
    "\n",
    "# Create vias\n",
    "v1 = Via(at=pos.tolist(), size=.8, drill=.6, net=vo.code)\n",
    "\n",
    "# Create segments\n",
    "s1 = Segment(start=start.tolist(), end=pos.tolist(), net=vo.code)\n",
    "s2 = Segment(start=pos.tolist(), end=end.tolist(), net=vo.code)\n",
    "\n",
    "# Create zones\n",
    "coords = [(0, 0), (10, 0), (10, 10), (0, 10)]\n",
    "gndplane_top = Zone(net_name='GND', layer='F.Cu', polygon=coords, clearance=0.3)\n"
   ]
  }
 ],
 "metadata": {
  "kernelspec": {
   "display_name": "Python 3",
   "language": "python",
   "name": "python3"
  },
  "language_info": {
   "codemirror_mode": {
    "name": "ipython",
    "version": 3
   },
   "file_extension": ".py",
   "mimetype": "text/x-python",
   "name": "python",
   "nbconvert_exporter": "python",
   "pygments_lexer": "ipython3",
   "version": "3.7.3"
  }
 },
 "nbformat": 4,
 "nbformat_minor": 2
}
